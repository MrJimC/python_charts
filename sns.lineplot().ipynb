{
 "cells": [
  {
   "cell_type": "code",
   "execution_count": 1,
   "metadata": {},
   "outputs": [],
   "source": [
    "import pandas as pd\n",
    "import matplotlib.pyplot as plt\n",
    "import seaborn as sns\n",
    "import numpy as np"
   ]
  },
  {
   "cell_type": "code",
   "execution_count": 2,
   "metadata": {},
   "outputs": [
    {
     "data": {
      "text/html": [
       "<div>\n",
       "<style scoped>\n",
       "    .dataframe tbody tr th:only-of-type {\n",
       "        vertical-align: middle;\n",
       "    }\n",
       "\n",
       "    .dataframe tbody tr th {\n",
       "        vertical-align: top;\n",
       "    }\n",
       "\n",
       "    .dataframe thead th {\n",
       "        text-align: right;\n",
       "    }\n",
       "</style>\n",
       "<table border=\"1\" class=\"dataframe\">\n",
       "  <thead>\n",
       "    <tr style=\"text-align: right;\">\n",
       "      <th></th>\n",
       "      <th>countrynameen</th>\n",
       "      <th>country_grouped</th>\n",
       "      <th>masterhotelid</th>\n",
       "      <th>masterhotelname</th>\n",
       "      <th>hotel_category</th>\n",
       "      <th>wkn_period</th>\n",
       "      <th>this_wk_in_cpn</th>\n",
       "      <th>this_wk_order</th>\n",
       "      <th>this_wk_uv</th>\n",
       "      <th>financial_revenue_past_4w</th>\n",
       "      <th>...</th>\n",
       "      <th>availability_tag</th>\n",
       "      <th>availability</th>\n",
       "      <th>bookable_ratio</th>\n",
       "      <th>lose_rate_final</th>\n",
       "      <th>lose_rate_tag</th>\n",
       "      <th>competitive_tag</th>\n",
       "      <th>hotelrating</th>\n",
       "      <th>htl_ct</th>\n",
       "      <th>htl_order_rank</th>\n",
       "      <th>top_pct_10</th>\n",
       "    </tr>\n",
       "  </thead>\n",
       "  <tbody>\n",
       "    <tr>\n",
       "      <td>0</td>\n",
       "      <td>Malaysia</td>\n",
       "      <td>Malaysia</td>\n",
       "      <td>699489</td>\n",
       "      <td>槟城火烈鸟海滩酒店(Flamingo Hotel by The Beach, Penang)</td>\n",
       "      <td>NaN</td>\n",
       "      <td>11/15/2021</td>\n",
       "      <td>0</td>\n",
       "      <td>188</td>\n",
       "      <td>2218</td>\n",
       "      <td>41296.01</td>\n",
       "      <td>...</td>\n",
       "      <td>A</td>\n",
       "      <td>0.9185</td>\n",
       "      <td>1.0</td>\n",
       "      <td>0.3165</td>\n",
       "      <td>B</td>\n",
       "      <td>B</td>\n",
       "      <td>4.2</td>\n",
       "      <td>2135</td>\n",
       "      <td>1</td>\n",
       "      <td>1</td>\n",
       "    </tr>\n",
       "    <tr>\n",
       "      <td>1</td>\n",
       "      <td>Malaysia</td>\n",
       "      <td>Malaysia</td>\n",
       "      <td>698563</td>\n",
       "      <td>吉隆坡棉兰东姑普雷斯科特酒店(Prescott Hotel Kuala Lumpur Med...</td>\n",
       "      <td>NaN</td>\n",
       "      <td>11/15/2021</td>\n",
       "      <td>0</td>\n",
       "      <td>147</td>\n",
       "      <td>707</td>\n",
       "      <td>16001.78</td>\n",
       "      <td>...</td>\n",
       "      <td>A</td>\n",
       "      <td>0.9162</td>\n",
       "      <td>1.0</td>\n",
       "      <td>0.2614</td>\n",
       "      <td>B</td>\n",
       "      <td>B</td>\n",
       "      <td>4.3</td>\n",
       "      <td>2135</td>\n",
       "      <td>2</td>\n",
       "      <td>1</td>\n",
       "    </tr>\n",
       "    <tr>\n",
       "      <td>2</td>\n",
       "      <td>Malaysia</td>\n",
       "      <td>Malaysia</td>\n",
       "      <td>698608</td>\n",
       "      <td>吉隆坡皇家朱兰酒店(Royale Chulan Kuala Lumpur)</td>\n",
       "      <td>NaN</td>\n",
       "      <td>11/15/2021</td>\n",
       "      <td>0</td>\n",
       "      <td>141</td>\n",
       "      <td>1770</td>\n",
       "      <td>15879.86</td>\n",
       "      <td>...</td>\n",
       "      <td>A</td>\n",
       "      <td>0.9554</td>\n",
       "      <td>1.0</td>\n",
       "      <td>0.3057</td>\n",
       "      <td>B</td>\n",
       "      <td>B</td>\n",
       "      <td>4.4</td>\n",
       "      <td>2135</td>\n",
       "      <td>3</td>\n",
       "      <td>1</td>\n",
       "    </tr>\n",
       "    <tr>\n",
       "      <td>3</td>\n",
       "      <td>Malaysia</td>\n",
       "      <td>Malaysia</td>\n",
       "      <td>695037</td>\n",
       "      <td>KSL度假酒店(KSL Hotel &amp; Resort)</td>\n",
       "      <td>NaN</td>\n",
       "      <td>11/15/2021</td>\n",
       "      <td>0</td>\n",
       "      <td>128</td>\n",
       "      <td>1084</td>\n",
       "      <td>23672.91</td>\n",
       "      <td>...</td>\n",
       "      <td>A</td>\n",
       "      <td>0.9572</td>\n",
       "      <td>1.0</td>\n",
       "      <td>0.0635</td>\n",
       "      <td>A</td>\n",
       "      <td>A</td>\n",
       "      <td>4.4</td>\n",
       "      <td>2135</td>\n",
       "      <td>4</td>\n",
       "      <td>1</td>\n",
       "    </tr>\n",
       "    <tr>\n",
       "      <td>4</td>\n",
       "      <td>Malaysia</td>\n",
       "      <td>Malaysia</td>\n",
       "      <td>1465325</td>\n",
       "      <td>马六甲瑞园酒店(Swiss-Garden Hotel Melaka)</td>\n",
       "      <td>NaN</td>\n",
       "      <td>11/15/2021</td>\n",
       "      <td>0</td>\n",
       "      <td>119</td>\n",
       "      <td>1773</td>\n",
       "      <td>28185.28</td>\n",
       "      <td>...</td>\n",
       "      <td>A</td>\n",
       "      <td>0.9094</td>\n",
       "      <td>1.0</td>\n",
       "      <td>0.1921</td>\n",
       "      <td>A</td>\n",
       "      <td>A</td>\n",
       "      <td>4.4</td>\n",
       "      <td>2135</td>\n",
       "      <td>5</td>\n",
       "      <td>1</td>\n",
       "    </tr>\n",
       "  </tbody>\n",
       "</table>\n",
       "<p>5 rows × 30 columns</p>\n",
       "</div>"
      ],
      "text/plain": [
       "  countrynameen country_grouped  masterhotelid  \\\n",
       "0      Malaysia        Malaysia         699489   \n",
       "1      Malaysia        Malaysia         698563   \n",
       "2      Malaysia        Malaysia         698608   \n",
       "3      Malaysia        Malaysia         695037   \n",
       "4      Malaysia        Malaysia        1465325   \n",
       "\n",
       "                                     masterhotelname  hotel_category  \\\n",
       "0     槟城火烈鸟海滩酒店(Flamingo Hotel by The Beach, Penang)             NaN   \n",
       "1  吉隆坡棉兰东姑普雷斯科特酒店(Prescott Hotel Kuala Lumpur Med...             NaN   \n",
       "2              吉隆坡皇家朱兰酒店(Royale Chulan Kuala Lumpur)             NaN   \n",
       "3                        KSL度假酒店(KSL Hotel & Resort)             NaN   \n",
       "4                 马六甲瑞园酒店(Swiss-Garden Hotel Melaka)             NaN   \n",
       "\n",
       "   wkn_period  this_wk_in_cpn  this_wk_order  this_wk_uv  \\\n",
       "0  11/15/2021               0            188        2218   \n",
       "1  11/15/2021               0            147         707   \n",
       "2  11/15/2021               0            141        1770   \n",
       "3  11/15/2021               0            128        1084   \n",
       "4  11/15/2021               0            119        1773   \n",
       "\n",
       "   financial_revenue_past_4w  ...  availability_tag  availability  \\\n",
       "0                   41296.01  ...                 A        0.9185   \n",
       "1                   16001.78  ...                 A        0.9162   \n",
       "2                   15879.86  ...                 A        0.9554   \n",
       "3                   23672.91  ...                 A        0.9572   \n",
       "4                   28185.28  ...                 A        0.9094   \n",
       "\n",
       "   bookable_ratio  lose_rate_final  lose_rate_tag  competitive_tag  \\\n",
       "0             1.0           0.3165              B                B   \n",
       "1             1.0           0.2614              B                B   \n",
       "2             1.0           0.3057              B                B   \n",
       "3             1.0           0.0635              A                A   \n",
       "4             1.0           0.1921              A                A   \n",
       "\n",
       "   hotelrating  htl_ct htl_order_rank top_pct_10  \n",
       "0          4.2    2135              1          1  \n",
       "1          4.3    2135              2          1  \n",
       "2          4.4    2135              3          1  \n",
       "3          4.4    2135              4          1  \n",
       "4          4.4    2135              5          1  \n",
       "\n",
       "[5 rows x 30 columns]"
      ]
     },
     "execution_count": 2,
     "metadata": {},
     "output_type": "execute_result"
    }
   ],
   "source": [
    "df = pd.read_csv(\"data_from_trip_practice_only.csv\")\n",
    "df.head()"
   ]
  },
  {
   "cell_type": "code",
   "execution_count": 4,
   "metadata": {},
   "outputs": [
    {
     "data": {
      "text/plain": [
       "wkn_period\n",
       "10/25/2021    32209\n",
       "11/1/2021     31264\n",
       "11/15/2021    25170\n",
       "11/8/2021     26674\n",
       "Name: this_wk_order, dtype: int64"
      ]
     },
     "execution_count": 4,
     "metadata": {},
     "output_type": "execute_result"
    }
   ],
   "source": [
    "order_by_wkn_period = df.groupby(\"wkn_period\")[\"this_wk_order\"].sum()\n",
    "order_by_wkn_period"
   ]
  },
  {
   "cell_type": "code",
   "execution_count": 15,
   "metadata": {},
   "outputs": [
    {
     "data": {
      "text/plain": [
       "['10/25/2021', '11/1/2021', '11/15/2021', '11/8/2021']"
      ]
     },
     "execution_count": 15,
     "metadata": {},
     "output_type": "execute_result"
    }
   ],
   "source": [
    "x = sorted(list(order_by_wkn_period.index))\n",
    "x"
   ]
  },
  {
   "cell_type": "code",
   "execution_count": 18,
   "metadata": {},
   "outputs": [
    {
     "data": {
      "text/plain": [
       "[32209, 31264, 25170, 26674]"
      ]
     },
     "execution_count": 18,
     "metadata": {},
     "output_type": "execute_result"
    }
   ],
   "source": [
    "y = list(order_by_wkn_period.values)\n",
    "y"
   ]
  },
  {
   "cell_type": "code",
   "execution_count": 23,
   "metadata": {},
   "outputs": [
    {
     "data": {
      "image/png": "[encoded data removed]",
      "text/plain": [
       "<Figure size 720x432 with 1 Axes>"
      ]
     },
     "metadata": {
      "needs_background": "light"
     },
     "output_type": "display_data"
    }
   ],
   "source": [
    "plt.figure(figsize=(10,6))\n",
    "sns.lineplot(x, y)\n",
    "\n",
    "#plt.title('titel',fontsize=15)\n",
    "#plt.xlabel('xlabel',size=10)\n",
    "#plt.ylabel('ylabel',size=10)\n",
    "plt.show()"
   ]
  },
  {
   "cell_type": "code",
   "execution_count": null,
   "metadata": {},
   "outputs": [],
   "source": []
  }
 ],
 "metadata": {
  "kernelspec": {
   "display_name": "Python 3",
   "language": "python",
   "name": "python3"
  },
  "language_info": {
   "codemirror_mode": {
    "name": "ipython",
    "version": 3
   },
   "file_extension": ".py",
   "mimetype": "text/x-python",
   "name": "python",
   "nbconvert_exporter": "python",
   "pygments_lexer": "ipython3",
   "version": "3.7.4"
  },
  "toc": {
   "base_numbering": 1,
   "nav_menu": {},
   "number_sections": true,
   "sideBar": true,
   "skip_h1_title": false,
   "title_cell": "Table of Contents",
   "title_sidebar": "Contents",
   "toc_cell": false,
   "toc_position": {},
   "toc_section_display": true,
   "toc_window_display": true
  }
 },
 "nbformat": 4,
 "nbformat_minor": 2
}
